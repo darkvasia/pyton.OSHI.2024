{
 "cells": [
  {
   "cell_type": "markdown",
   "metadata": {},
   "source": [
    "task1\n"
   ]
  },
  {
   "cell_type": "code",
   "execution_count": 6,
   "metadata": {},
   "outputs": [],
   "source": [
    "import pandas as pd \n",
    "import numpy as np \n",
    "import json as jsn"
   ]
  },
  {
   "cell_type": "markdown",
   "metadata": {},
   "source": [
    "task2"
   ]
  },
  {
   "cell_type": "code",
   "execution_count": 30,
   "metadata": {},
   "outputs": [],
   "source": [
    "dataframe = {\n",
    "    \"Second_name\": [\"Carry\", \"Jonson\", \"Redict\"],\n",
    "    \"First_name\": [\"Red\", \"Black\", \"Jhon\"],\n",
    "    \"Birthday\": [\"1985-02-12\", \"1999-01-02\", None],\n",
    "    \"Weight\": [75, 85, 95],\n",
    "    \"Medical_insurance\": [True, False, True]\n",
    "}\n",
    "\n",
    "data = pd.DataFrame(dataframe)\n",
    "data.to_csv(\n",
    "    'patients.csv', \n",
    "    index=False, \n",
    "    encoding='utf-8'\n",
    ")\n"
   ]
  },
  {
   "cell_type": "markdown",
   "metadata": {},
   "source": [
    "task3"
   ]
  },
  {
   "cell_type": "code",
   "execution_count": 31,
   "metadata": {},
   "outputs": [
    {
     "name": "stdout",
     "output_type": "stream",
     "text": [
      "            time_start          time_end                      model  \\\n",
      "0           2024-08-25  2024-08-25 08:00                  X-59/X-69   \n",
      "1           2024-08-25  2024-08-25 08:00             Shahed-136/131   \n",
      "2           2024-08-25  2024-08-25 08:00  Iskander-M and Iskander-K   \n",
      "3           2024-08-24  2024-08-24 08:00                       X-22   \n",
      "4           2024-08-24        2024-08-24                       ZALA   \n",
      "...                ...               ...                        ...   \n",
      "1544  2022-10-01 12:00  2022-10-01 12:00                   Orlan-10   \n",
      "1545        2022-09-30        2022-09-30                   Orlan-10   \n",
      "1546  2022-09-29 23:00  2022-09-29 23:59             Shahed-136/131   \n",
      "1547        2022-09-28        2022-09-28                       X-59   \n",
      "1548        2022-09-28        2022-09-28         Reconnaissance UAV   \n",
      "\n",
      "                           launch_place  \\\n",
      "0      Belgorod oblast and Kursk oblast   \n",
      "1                        Chauda, Crimea   \n",
      "2     Voronezh oblast and Rostov oblast   \n",
      "3                                   NaN   \n",
      "4                                   NaN   \n",
      "...                                 ...   \n",
      "1544                                NaN   \n",
      "1545                                NaN   \n",
      "1546                                NaN   \n",
      "1547                                NaN   \n",
      "1548                                NaN   \n",
      "\n",
      "                                             target destroyed_details  \\\n",
      "0                                           Ukraine               NaN   \n",
      "1                                   Mykolaiv oblast               NaN   \n",
      "2                                           Ukraine               NaN   \n",
      "3                                      Snake Island               NaN   \n",
      "4                                             south               NaN   \n",
      "...                                             ...               ...   \n",
      "1544                                        Ukraine               NaN   \n",
      "1545                                        Ukraine               NaN   \n",
      "1546               Odesa oblast and Mykolaiv oblast               NaN   \n",
      "1547  Dnipropetrovsk oblast and Zaporizhzhia oblast               NaN   \n",
      "1548                                        Ukraine               NaN   \n",
      "\n",
      "      carrier  launched  destroyed  not_reach_goal  \\\n",
      "0         NaN       6.0          0             NaN   \n",
      "1         NaN       9.0          8             NaN   \n",
      "2         NaN       2.0          0             NaN   \n",
      "3     Tu-22M3       4.0          0             NaN   \n",
      "4         NaN       1.0          1             NaN   \n",
      "...       ...       ...        ...             ...   \n",
      "1544      NaN       1.0          1             NaN   \n",
      "1545      NaN       3.0          3             NaN   \n",
      "1546      NaN       7.0          5             NaN   \n",
      "1547    Su-35       5.0          4             NaN   \n",
      "1548      NaN       3.0          3             NaN   \n",
      "\n",
      "                                                 source  \n",
      "0     kpszsu/posts/pfbid02X4xEceWSyyyx1ZdduyvuCpzJF3...  \n",
      "1     kpszsu/posts/pfbid02X4xEceWSyyyx1ZdduyvuCpzJF3...  \n",
      "2     kpszsu/posts/pfbid02X4xEceWSyyyx1ZdduyvuCpzJF3...  \n",
      "3     PvKPivden/posts/pfbid033MvaJhQSuqr9W9rps6Z2CLZ...  \n",
      "4     PvKPivden/posts/pfbid0U9ne7wKiNRaeTX2dQzXCNyQ1...  \n",
      "...                                                 ...  \n",
      "1544                           watch/?v=375517448001233  \n",
      "1545  kpszsu/posts/pfbid0nELeXY4BpHrezv54Lk3gWPZJmcC...  \n",
      "1546  kpszsu/posts/pfbid021aK2TqryAuB8gGrDYMTv3R8Xiu...  \n",
      "1547  kpszsu/posts/pfbid02sjn5m7kosAfsm5bSUzpPwbLuH3...  \n",
      "1548  kpszsu/posts/pfbid0grmBx6A5LbQ7PVTkSx7jTDgg4iU...  \n",
      "\n",
      "[1549 rows x 11 columns]\n"
     ]
    }
   ],
   "source": [
    "dataframe_missile = pd.read_csv(\n",
    "    \"missile_attacks_daily.csv\"\n",
    ")\n",
    "print(\n",
    "    dataframe_missile\n",
    ")"
   ]
  },
  {
   "cell_type": "markdown",
   "metadata": {},
   "source": [
    "task4"
   ]
  },
  {
   "cell_type": "code",
   "execution_count": 32,
   "metadata": {},
   "outputs": [
    {
     "name": "stdout",
     "output_type": "stream",
     "text": [
      "   time_start          time_end                      model  \\\n",
      "0  2024-08-25  2024-08-25 08:00                  X-59/X-69   \n",
      "1  2024-08-25  2024-08-25 08:00             Shahed-136/131   \n",
      "2  2024-08-25  2024-08-25 08:00  Iskander-M and Iskander-K   \n",
      "3  2024-08-24  2024-08-24 08:00                       X-22   \n",
      "4  2024-08-24        2024-08-24                       ZALA   \n",
      "5  2024-08-23  2024-08-23 08:00             Shahed-136/131   \n",
      "6  2024-08-23  2024-08-23 08:00           Iskander-M/KN-23   \n",
      "7  2024-08-23        2024-08-23                       ZALA   \n",
      "8  2024-08-23        2024-08-23                   Supercam   \n",
      "9  2024-08-23        2024-08-23                   Orlan-10   \n",
      "\n",
      "                        launch_place           target  \\\n",
      "0   Belgorod oblast and Kursk oblast          Ukraine   \n",
      "1                     Chauda, Crimea  Mykolaiv oblast   \n",
      "2  Voronezh oblast and Rostov oblast          Ukraine   \n",
      "3                                NaN     Snake Island   \n",
      "4                                NaN            south   \n",
      "5             Kursk oblast and Yeysk          Ukraine   \n",
      "6                    Voronezh oblast          Ukraine   \n",
      "7                                NaN            south   \n",
      "8                                NaN            south   \n",
      "9                                NaN            south   \n",
      "\n",
      "                                   destroyed_details  carrier  launched  \\\n",
      "0                                                NaN      NaN       6.0   \n",
      "1                                                NaN      NaN       9.0   \n",
      "2                                                NaN      NaN       2.0   \n",
      "3                                                NaN  Tu-22M3       4.0   \n",
      "4                                                NaN      NaN       1.0   \n",
      "5  {'Kirovohrad oblast': NaN, 'Sumy oblast': NaN,...      NaN      16.0   \n",
      "6                                                NaN      NaN       2.0   \n",
      "7                                                NaN      NaN       2.0   \n",
      "8                                                NaN      NaN       1.0   \n",
      "9                                                NaN      NaN       1.0   \n",
      "\n",
      "   destroyed  not_reach_goal  \\\n",
      "0          0             NaN   \n",
      "1          8             NaN   \n",
      "2          0             NaN   \n",
      "3          0             NaN   \n",
      "4          1             NaN   \n",
      "5         14             2.0   \n",
      "6          0             NaN   \n",
      "7          2             NaN   \n",
      "8          1             NaN   \n",
      "9          1             NaN   \n",
      "\n",
      "                                              source  \n",
      "0  kpszsu/posts/pfbid02X4xEceWSyyyx1ZdduyvuCpzJF3...  \n",
      "1  kpszsu/posts/pfbid02X4xEceWSyyyx1ZdduyvuCpzJF3...  \n",
      "2  kpszsu/posts/pfbid02X4xEceWSyyyx1ZdduyvuCpzJF3...  \n",
      "3  PvKPivden/posts/pfbid033MvaJhQSuqr9W9rps6Z2CLZ...  \n",
      "4  PvKPivden/posts/pfbid0U9ne7wKiNRaeTX2dQzXCNyQ1...  \n",
      "5  kpszsu/posts/pfbid02FgbYrBHmbSCPxaiNZ4F1C8TJXL...  \n",
      "6  kpszsu/posts/pfbid02FgbYrBHmbSCPxaiNZ4F1C8TJXL...  \n",
      "7  PvKPivden/posts/pfbid033MvaJhQSuqr9W9rps6Z2CLZ...  \n",
      "8  PvKPivden/posts/pfbid033MvaJhQSuqr9W9rps6Z2CLZ...  \n",
      "9  PvKPivden/posts/pfbid033MvaJhQSuqr9W9rps6Z2CLZ...  \n"
     ]
    }
   ],
   "source": [
    "print(\n",
    "    dataframe_missile.head(\n",
    "        10\n",
    "    )\n",
    ")\n"
   ]
  },
  {
   "cell_type": "markdown",
   "metadata": {},
   "source": [
    "task5"
   ]
  },
  {
   "cell_type": "code",
   "execution_count": 34,
   "metadata": {},
   "outputs": [
    {
     "name": "stdout",
     "output_type": "stream",
     "text": [
      "(1549, 11)\n"
     ]
    }
   ],
   "source": [
    "print(\n",
    "    dataframe_missile.shape\n",
    ")\n"
   ]
  },
  {
   "cell_type": "markdown",
   "metadata": {},
   "source": [
    "task6"
   ]
  },
  {
   "cell_type": "code",
   "execution_count": 35,
   "metadata": {},
   "outputs": [
    {
     "name": "stdout",
     "output_type": "stream",
     "text": [
      "Index(['time_start', 'time_end', 'model', 'launch_place', 'target',\n",
      "       'destroyed_details', 'carrier', 'launched', 'destroyed',\n",
      "       'not_reach_goal', 'source'],\n",
      "      dtype='object')\n",
      "\n",
      "time_start            object\n",
      "time_end              object\n",
      "model                 object\n",
      "launch_place          object\n",
      "target                object\n",
      "destroyed_details     object\n",
      "carrier               object\n",
      "launched             float64\n",
      "destroyed              int64\n",
      "not_reach_goal       float64\n",
      "source                object\n",
      "dtype: object\n",
      "\n",
      "time_start           1549\n",
      "time_end             1549\n",
      "model                1549\n",
      "launch_place          719\n",
      "target               1521\n",
      "destroyed_details     153\n",
      "carrier               197\n",
      "launched             1546\n",
      "destroyed            1549\n",
      "not_reach_goal         15\n",
      "source               1549\n",
      "dtype: int64\n",
      "\n"
     ]
    }
   ],
   "source": [
    "\n",
    "print(\n",
    "    f\"{dataframe_missile.columns}\\n\"\n",
    ")\n",
    "print(\n",
    "    f\"{dataframe_missile.dtypes}\\n\"\n",
    ")\n",
    "print(\n",
    "    f\"{dataframe_missile.count()}\\n\"\n",
    ")\n"
   ]
  },
  {
   "cell_type": "markdown",
   "metadata": {},
   "source": [
    "task7"
   ]
  },
  {
   "cell_type": "code",
   "execution_count": 36,
   "metadata": {},
   "outputs": [
    {
     "name": "stdout",
     "output_type": "stream",
     "text": [
      "          launched    destroyed  not_reach_goal\n",
      "count  1546.000000  1549.000000       15.000000\n",
      "mean      7.126132     5.657844        3.200000\n",
      "std      11.394952     9.982435        3.949684\n",
      "min       1.000000     0.000000        1.000000\n",
      "25%       1.000000     1.000000        1.000000\n",
      "50%       2.000000     1.000000        2.000000\n",
      "75%       8.000000     6.000000        3.000000\n",
      "max      96.000000    89.000000       16.000000\n"
     ]
    }
   ],
   "source": [
    "print(\n",
    "    dataframe_missile\n",
    "    .describe()\n",
    ")\n"
   ]
  },
  {
   "cell_type": "markdown",
   "metadata": {},
   "source": [
    "task8"
   ]
  },
  {
   "cell_type": "code",
   "execution_count": 37,
   "metadata": {},
   "outputs": [
    {
     "name": "stdout",
     "output_type": "stream",
     "text": [
      "time_start           651\n",
      "time_end             784\n",
      "model                 51\n",
      "launch_place         105\n",
      "target                91\n",
      "destroyed_details    152\n",
      "carrier               53\n",
      "launched              63\n",
      "destroyed             59\n",
      "not_reach_goal         5\n",
      "source               752\n",
      "dtype: int64\n"
     ]
    }
   ],
   "source": [
    "print(\n",
    "    dataframe_missile \\\n",
    "        .nunique()\n",
    ")\n"
   ]
  },
  {
   "cell_type": "markdown",
   "metadata": {},
   "source": [
    "task9"
   ]
  },
  {
   "cell_type": "code",
   "execution_count": 38,
   "metadata": {},
   "outputs": [
    {
     "name": "stdout",
     "output_type": "stream",
     "text": [
      "Colum with minimum unique values: not_reach_goal\n",
      "Values and counts: not_reach_goal\n",
      "2.0     5\n",
      "1.0     5\n",
      "3.0     3\n",
      "16.0    1\n",
      "8.0     1\n",
      "Name: count, dtype: int64\n"
     ]
    }
   ],
   "source": [
    "unique_min = (\n",
    "    dataframe_missile\n",
    "        .nunique()\n",
    "        .idxmin()\n",
    ")\n",
    "counts = (\n",
    "    dataframe_missile[\n",
    "        unique_min\n",
    "    ]\n",
    "    .value_counts()\n",
    ")\n",
    "\n",
    "print(\n",
    "    f\"Colum with minimum unique values: {unique_min}\"\n",
    ")\n",
    "print(\n",
    "    f\"Values and counts: {counts}\"\n",
    ")\n"
   ]
  },
  {
   "cell_type": "markdown",
   "metadata": {},
   "source": [
    "task10"
   ]
  },
  {
   "cell_type": "markdown",
   "metadata": {},
   "source": []
  },
  {
   "cell_type": "markdown",
   "metadata": {},
   "source": [
    "task11"
   ]
  },
  {
   "cell_type": "code",
   "execution_count": 17,
   "metadata": {},
   "outputs": [
    {
     "name": "stdout",
     "output_type": "stream",
     "text": [
      "0       6.0\n",
      "1       9.0\n",
      "2       2.0\n",
      "3       4.0\n",
      "4       1.0\n",
      "       ... \n",
      "1544    1.0\n",
      "1545    3.0\n",
      "1546    7.0\n",
      "1547    5.0\n",
      "1548    3.0\n",
      "Name: launched, Length: 1549, dtype: float64\n",
      "0       6\n",
      "1       9\n",
      "2       2\n",
      "3       4\n",
      "4       1\n",
      "       ..\n",
      "1544    1\n",
      "1545    3\n",
      "1546    7\n",
      "1547    5\n",
      "1548    3\n",
      "Name: launched, Length: 1549, dtype: Int64\n"
     ]
    }
   ],
   "source": [
    "print(\n",
    "    dataframe_missile[\n",
    "        'launched'\n",
    "    ]\n",
    ")\n",
    "dataframe_missile[\n",
    "    'launched'\n",
    "] = (\n",
    "    dataframe_missile[\n",
    "        'launched'\n",
    "    ]\n",
    "    .astype(\n",
    "        'Int64'\n",
    "    )\n",
    ")\n",
    "print(\n",
    "    dataframe_missile[\n",
    "        'launched'\n",
    "    ]\n",
    ")\n"
   ]
  },
  {
   "cell_type": "markdown",
   "metadata": {},
   "source": [
    "task12"
   ]
  },
  {
   "cell_type": "code",
   "execution_count": 39,
   "metadata": {},
   "outputs": [
    {
     "name": "stdout",
     "output_type": "stream",
     "text": [
      "            time_start          time_end                      model  \\\n",
      "0           2024-08-25  2024-08-25 08:00                  X-59/X-69   \n",
      "1           2024-08-25  2024-08-25 08:00             Shahed-136/131   \n",
      "2           2024-08-25  2024-08-25 08:00  Iskander-M and Iskander-K   \n",
      "3           2024-08-24  2024-08-24 08:00                       X-22   \n",
      "4           2024-08-24        2024-08-24                       ZALA   \n",
      "...                ...               ...                        ...   \n",
      "1544  2022-10-01 12:00  2022-10-01 12:00                   Orlan-10   \n",
      "1545        2022-09-30        2022-09-30                   Orlan-10   \n",
      "1546  2022-09-29 23:00  2022-09-29 23:59             Shahed-136/131   \n",
      "1547        2022-09-28        2022-09-28                       X-59   \n",
      "1548        2022-09-28        2022-09-28         Reconnaissance UAV   \n",
      "\n",
      "                                             target  launched  destroyed  \\\n",
      "0                                           Ukraine       6.0          0   \n",
      "1                                   Mykolaiv oblast       9.0          8   \n",
      "2                                           Ukraine       2.0          0   \n",
      "3                                      Snake Island       4.0          0   \n",
      "4                                             south       1.0          1   \n",
      "...                                             ...       ...        ...   \n",
      "1544                                        Ukraine       1.0          1   \n",
      "1545                                        Ukraine       3.0          3   \n",
      "1546               Odesa oblast and Mykolaiv oblast       7.0          5   \n",
      "1547  Dnipropetrovsk oblast and Zaporizhzhia oblast       5.0          4   \n",
      "1548                                        Ukraine       3.0          3   \n",
      "\n",
      "                                                 source  \n",
      "0     kpszsu/posts/pfbid02X4xEceWSyyyx1ZdduyvuCpzJF3...  \n",
      "1     kpszsu/posts/pfbid02X4xEceWSyyyx1ZdduyvuCpzJF3...  \n",
      "2     kpszsu/posts/pfbid02X4xEceWSyyyx1ZdduyvuCpzJF3...  \n",
      "3     PvKPivden/posts/pfbid033MvaJhQSuqr9W9rps6Z2CLZ...  \n",
      "4     PvKPivden/posts/pfbid0U9ne7wKiNRaeTX2dQzXCNyQ1...  \n",
      "...                                                 ...  \n",
      "1544                           watch/?v=375517448001233  \n",
      "1545  kpszsu/posts/pfbid0nELeXY4BpHrezv54Lk3gWPZJmcC...  \n",
      "1546  kpszsu/posts/pfbid021aK2TqryAuB8gGrDYMTv3R8Xiu...  \n",
      "1547  kpszsu/posts/pfbid02sjn5m7kosAfsm5bSUzpPwbLuH3...  \n",
      "1548  kpszsu/posts/pfbid0grmBx6A5LbQ7PVTkSx7jTDgg4iU...  \n",
      "\n",
      "[1549 rows x 7 columns]\n"
     ]
    }
   ],
   "source": [
    "delet = (\n",
    "    len(\n",
    "        dataframe_missile\n",
    "    ) * 0.8\n",
    ")\n",
    "dataframe_missile = (\n",
    "    dataframe_missile\n",
    "    .dropna(\n",
    "        thresh = delet, \n",
    "        axis = 1\n",
    "    )\n",
    ")\n",
    "print(\n",
    "    dataframe_missile\n",
    ")\n"
   ]
  },
  {
   "cell_type": "markdown",
   "metadata": {},
   "source": [
    "task13"
   ]
  },
  {
   "cell_type": "code",
   "execution_count": 40,
   "metadata": {},
   "outputs": [
    {
     "name": "stdout",
     "output_type": "stream",
     "text": [
      "            time_start          time_end                      model  \\\n",
      "0           2024-08-25  2024-08-25 08:00                  X-59/X-69   \n",
      "1           2024-08-25  2024-08-25 08:00             Shahed-136/131   \n",
      "2           2024-08-25  2024-08-25 08:00  Iskander-M and Iskander-K   \n",
      "3           2024-08-24  2024-08-24 08:00                       X-22   \n",
      "4           2024-08-24        2024-08-24                       ZALA   \n",
      "...                ...               ...                        ...   \n",
      "1544  2022-10-01 12:00  2022-10-01 12:00                   Orlan-10   \n",
      "1545        2022-09-30        2022-09-30                   Orlan-10   \n",
      "1546  2022-09-29 23:00  2022-09-29 23:59             Shahed-136/131   \n",
      "1547        2022-09-28        2022-09-28                       X-59   \n",
      "1548        2022-09-28        2022-09-28         Reconnaissance UAV   \n",
      "\n",
      "                                             target  launched  destroyed  \\\n",
      "0                                           Ukraine       6.0          0   \n",
      "1                                   Mykolaiv oblast       9.0          8   \n",
      "2                                           Ukraine       2.0          0   \n",
      "3                                      Snake Island       4.0          0   \n",
      "4                                             south       1.0          1   \n",
      "...                                             ...       ...        ...   \n",
      "1544                                        Ukraine       1.0          1   \n",
      "1545                                        Ukraine       3.0          3   \n",
      "1546               Odesa oblast and Mykolaiv oblast       7.0          5   \n",
      "1547  Dnipropetrovsk oblast and Zaporizhzhia oblast       5.0          4   \n",
      "1548                                        Ukraine       3.0          3   \n",
      "\n",
      "                                                 source  \n",
      "0     kpszsu/posts/pfbid02X4xEceWSyyyx1ZdduyvuCpzJF3...  \n",
      "1     kpszsu/posts/pfbid02X4xEceWSyyyx1ZdduyvuCpzJF3...  \n",
      "2     kpszsu/posts/pfbid02X4xEceWSyyyx1ZdduyvuCpzJF3...  \n",
      "3     PvKPivden/posts/pfbid033MvaJhQSuqr9W9rps6Z2CLZ...  \n",
      "4     PvKPivden/posts/pfbid0U9ne7wKiNRaeTX2dQzXCNyQ1...  \n",
      "...                                                 ...  \n",
      "1544                           watch/?v=375517448001233  \n",
      "1545  kpszsu/posts/pfbid0nELeXY4BpHrezv54Lk3gWPZJmcC...  \n",
      "1546  kpszsu/posts/pfbid021aK2TqryAuB8gGrDYMTv3R8Xiu...  \n",
      "1547  kpszsu/posts/pfbid02sjn5m7kosAfsm5bSUzpPwbLuH3...  \n",
      "1548  kpszsu/posts/pfbid0grmBx6A5LbQ7PVTkSx7jTDgg4iU...  \n",
      "\n",
      "[1549 rows x 7 columns]\n"
     ]
    }
   ],
   "source": [
    "dataframe_missile = (\n",
    "    dataframe_missile\n",
    "    .drop_duplicates()\n",
    ")\n",
    "print(\n",
    "    dataframe_missile\n",
    ")\n"
   ]
  },
  {
   "cell_type": "markdown",
   "metadata": {},
   "source": [
    "task14"
   ]
  },
  {
   "cell_type": "code",
   "execution_count": 20,
   "metadata": {},
   "outputs": [
    {
     "name": "stdout",
     "output_type": "stream",
     "text": [
      "            time_start          time_end             model   target  launched  \\\n",
      "747         2024-02-28  2024-02-28 08:00             C-300  Ukraine      <NA>   \n",
      "753         2024-02-27  2024-02-27 08:00  Iskander-M/KN-23  Ukraine      <NA>   \n",
      "804         2024-02-12  2024-02-12 08:00             C-300  Ukraine      <NA>   \n",
      "1345        2023-05-12        2023-05-12            Lancet      NaN         4   \n",
      "1365  2023-04-29 10:00  2023-04-29 10:00       Unknown UAV      NaN         1   \n",
      "1366  2023-04-29 04:00  2023-04-29 04:00    Shahed-136/131      NaN         2   \n",
      "1372        2023-04-24        2023-04-24    Shahed-136/131      NaN         6   \n",
      "1376  2023-04-21 19:00  2023-04-21 23:50    Shahed-136/131      NaN         5   \n",
      "1377        2023-04-21  2023-04-21 03:00    Shahed-136/131      NaN        12   \n",
      "1378  2023-04-19 21:00  2023-04-20 00:20    Shahed-136/131      NaN        11   \n",
      "1380        2023-04-18        2023-04-18    Shahed-136/131      NaN         8   \n",
      "1381        2023-04-18        2023-04-18          Orlan-10      NaN         1   \n",
      "1382        2023-04-10        2023-04-10          Orlan-10      NaN         1   \n",
      "1383        2023-04-10        2023-04-10         Merlin-VR      NaN         1   \n",
      "1386  2023-03-30 21:10  2023-03-31 01:30    Shahed-136/131      NaN        10   \n",
      "1387  2023-03-27 21:40  2023-03-27 23:50    Shahed-136/131      NaN        13   \n",
      "1389  2023-03-27 21:40  2023-03-27 23:50          Granat-4      NaN         1   \n",
      "1391  2023-03-21 23:30  2023-03-22 04:00    Shahed-136/131      NaN        21   \n",
      "1393  2023-03-17 21:00  2023-03-18 01:30    Shahed-136/131      NaN        16   \n",
      "1400        2023-03-09        2023-03-09    Shahed-136/131      NaN         8   \n",
      "1406  2023-02-27 04:00  2023-02-27 04:00    Shahed-136/131      NaN        14   \n",
      "1407  2023-02-18 10:00  2023-02-18 10:00            Kalibr      NaN         4   \n",
      "1414        2023-02-15        2023-02-15       Unknown UAV      NaN         1   \n",
      "1415  2023-02-11 18:40  2023-02-11 21:30    Shahed-136/131      NaN         4   \n",
      "1416  2023-02-11 18:40  2023-02-11 21:30          Orlan-10      NaN         1   \n",
      "1443        2023-01-02        2023-01-02              X-59      NaN         1   \n",
      "1444        2023-01-02        2023-01-02          Orlan-10      NaN         1   \n",
      "1461        2022-12-16        2022-12-16             C-300      NaN        27   \n",
      "1464        2022-12-07        2022-12-07       Unknown UAV      NaN         2   \n",
      "1465        2022-12-07        2022-12-07    Shahed-136/131      NaN        11   \n",
      "1466        2022-12-07        2022-12-07          Orlan-10      NaN         1   \n",
      "\n",
      "      destroyed                                             source  \n",
      "747           0  kpszsu/posts/pfbid02VCqru9cieHHEsQBfdaPNRJTD8w...  \n",
      "753           0  kpszsu/posts/pfbid02sMvCvhwew2ShHu14bz4ByuD5Bx...  \n",
      "804           0  kpszsu/posts/pfbid092YHXsyxst16bNarqgCak3exMxr...  \n",
      "1345          4  kpszsu/posts/pfbid0EUf7C7dyUGpd13K98kXNkh5Y4gg...  \n",
      "1365          1  kpszsu/posts/pfbid0dFmN22S2XUdUuUpL42Gi5zix1Lr...  \n",
      "1366          2  kpszsu/posts/pfbid0dFmN22S2XUdUuUpL42Gi5zix1Lr...  \n",
      "1372          6  kpszsu/posts/pfbid0u2HpBvwerS8kGCA41R3eCysAwDg...  \n",
      "1376          4  kpszsu/posts/pfbid02ouft79RhQtCP2SuAq6tG6mkN6T...  \n",
      "1377          8  kpszsu/posts/pfbid0SZzcFXv1dd9PmsurT8WKFDcZczC...  \n",
      "1378         10  kpszsu/posts/pfbid02K4npJgPxeb3k7gFsMS3dQKamcA...  \n",
      "1380          6  kpszsu/posts/pfbid02KuVs351ShfikiPCM3iKXApKvkt...  \n",
      "1381          1  kpszsu/posts/pfbid02KuVs351ShfikiPCM3iKXApKvkt...  \n",
      "1382          1  PvkCenter/posts/pfbid061CJbwPE4ptosYqQ79TkTMpL...  \n",
      "1383          1  PvkCenter/posts/pfbid061CJbwPE4ptosYqQ79TkTMpL...  \n",
      "1386          9  kpszsu/posts/pfbid0b6i2XPMG2vi6bg4a4SSMB8zo7eZ...  \n",
      "1387         12  kpszsu/posts/pfbid02Nxjn4XnkVbatmymR38DzJiCU2B...  \n",
      "1389          1  kpszsu/posts/pfbid02Nxjn4XnkVbatmymR38DzJiCU2B...  \n",
      "1391         16  kpszsu/posts/pfbid024iAXyJnPeP1hdqUGHEHiwYjCe6...  \n",
      "1393         11  kpszsu/posts/pfbid0gA9z7xKgZfqjtDQiB29KDkVYW13...  \n",
      "1400          4  GeneralStaff.ua/posts/pfbid02ZkH2oExtT4GJQYc2R...  \n",
      "1406         11  kpszsu/posts/pfbid05kfkx3SoEaZ2WMSt227BnGXvNcd...  \n",
      "1407          2  kpszsu/posts/pfbid02sVAR3DYn3VpeN9pw7dHgvxR9uo...  \n",
      "1414          1  kpszsu/posts/pfbid0b1FLpVFdTG7JS4DqoSMW5DsiDVY...  \n",
      "1415          4  kpszsu/posts/pfbid0rzDv4jSfTUPfW4FrSqM45fdm834...  \n",
      "1416          1  kpszsu/posts/pfbid0rzDv4jSfTUPfW4FrSqM45fdm834...  \n",
      "1443          1  kpszsu/posts/pfbid037Pa7yRRveDj81HSM2g7AFiPjsY...  \n",
      "1444          1  kpszsu/posts/pfbid037Pa7yRRveDj81HSM2g7AFiPjsY...  \n",
      "1461          0  kpszsu/posts/pfbid0iN3SZTKGt5vvrcygMaNSjbrRC7N...  \n",
      "1464          2  kpszsu/posts/pfbid0K2bwmVod7ngEjzbcM9hPADXD5qV...  \n",
      "1465         11  kpszsu/posts/pfbid0K2bwmVod7ngEjzbcM9hPADXD5qV...  \n",
      "1466          1  kpszsu/posts/pfbid0K2bwmVod7ngEjzbcM9hPADXD5qV...  \n"
     ]
    }
   ],
   "source": [
    "rows_with_missing_values = (\n",
    "    dataframe_missile[\n",
    "        dataframe_missile\n",
    "        .isnull()\n",
    "        .any(\n",
    "            axis = 1\n",
    "        )\n",
    "    ]\n",
    ")\n",
    "print(\n",
    "    rows_with_missing_values\n",
    ")\n"
   ]
  },
  {
   "cell_type": "markdown",
   "metadata": {},
   "source": [
    "task15"
   ]
  },
  {
   "cell_type": "code",
   "execution_count": 23,
   "metadata": {},
   "outputs": [
    {
     "name": "stdout",
     "output_type": "stream",
     "text": [
      "Avarage hit missiles: 76.02%\n"
     ]
    }
   ],
   "source": [
    "dataframe_missile['hit'] = (dataframe_missile['destroyed'] / dataframe_missile['launched']) * 100\n",
    "\n",
    "average_hit = dataframe_missile['hit'].mean()\n",
    "\n",
    "print(f\"Avarage hit missiles: {average_hit:.2f}%\")"
   ]
  },
  {
   "cell_type": "markdown",
   "metadata": {},
   "source": [
    "task16"
   ]
  },
  {
   "cell_type": "code",
   "execution_count": 24,
   "metadata": {},
   "outputs": [
    {
     "name": "stdout",
     "output_type": "stream",
     "text": [
      "[{'model': 'Shahed-136/131', 'launched': 6665}, {'model': 'X-101/X-555', 'launched': 1323}, {'model': 'X-101/X-555 and Kalibr', 'launched': 340}, {'model': 'Kalibr', 'launched': 335}, {'model': 'C-300', 'launched': 271}, {'model': 'X-59', 'launched': 237}, {'model': 'Iskander-M', 'launched': 171}, {'model': 'Orlan-10', 'launched': 170}, {'model': 'ZALA', 'launched': 163}, {'model': 'Lancet', 'launched': 159}]\n"
     ]
    }
   ],
   "source": [
    "\n",
    "\n",
    "model_counts = dataframe_missile.groupby('model')['launched'].sum().reset_index()\n",
    "\n",
    "model_counts = model_counts.sort_values(by='launched', ascending=False).head(10)\n",
    "\n",
    "model_counts = model_counts.to_dict(orient='records')\n",
    "\n",
    "with open('model_counts.json', 'w') as file:\n",
    "    jsn.dump(model_counts, file, indent=4)\n",
    "\n",
    "print(model_counts)"
   ]
  },
  {
   "cell_type": "markdown",
   "metadata": {},
   "source": [
    "task17"
   ]
  },
  {
   "cell_type": "code",
   "execution_count": 25,
   "metadata": {},
   "outputs": [
    {
     "name": "stdout",
     "output_type": "stream",
     "text": [
      "Max hits: 2024-03-22 02:00\n",
      " Hits count: 59\n"
     ]
    }
   ],
   "source": [
    "\n",
    "dataframe_missile['hits'] = dataframe_missile['launched'] - dataframe_missile['destroyed']\n",
    "\n",
    "result = dataframe_missile.groupby('time_start')['hits'].sum().reset_index()\n",
    "\n",
    "max_hits_day = result.loc[result['hits'].idxmax()]\n",
    "\n",
    "\n",
    "print(f\"Max hits: {max_hits_day['time_start']}\\n Hits count: {max_hits_day['hits']}\")"
   ]
  },
  {
   "cell_type": "markdown",
   "metadata": {},
   "source": [
    "task18"
   ]
  },
  {
   "cell_type": "code",
   "execution_count": 26,
   "metadata": {},
   "outputs": [
    {
     "name": "stdout",
     "output_type": "stream",
     "text": [
      "    year  month    max_duration\n",
      "0   2022      9 0 days 00:59:00\n",
      "1   2022     10 0 days 10:00:00\n",
      "2   2022     11 0 days 03:00:00\n",
      "3   2022     12 0 days 09:15:00\n",
      "4   2023      1 0 days 08:00:00\n",
      "5   2023      2 0 days 14:10:00\n",
      "6   2023      3 0 days 04:30:00\n",
      "7   2023      4 1 days 10:30:00\n",
      "8   2023      5 0 days 08:30:00\n",
      "9   2023      6 0 days 08:00:00\n",
      "10  2023      7 0 days 08:00:00\n",
      "11  2023      8 0 days 08:00:00\n",
      "12  2023      9 0 days 08:00:00\n",
      "13  2023     10 0 days 09:00:00\n",
      "14  2023     11 0 days 09:00:00\n",
      "15  2023     12 0 days 13:00:00\n",
      "16  2024      1 0 days 12:00:00\n",
      "17  2024      2 0 days 08:00:00\n",
      "18  2024      3 0 days 08:00:00\n",
      "19  2024      4 0 days 08:00:00\n",
      "20  2024      5 0 days 08:00:00\n",
      "21  2024      6 0 days 18:00:00\n",
      "22  2024      7 1 days 08:00:00\n",
      "23  2024      8 0 days 11:15:00\n"
     ]
    }
   ],
   "source": [
    "dataframe_missile['time_start'] = pd.to_datetime(dataframe_missile['time_start'], format='mixed')\n",
    "dataframe_missile['time_end'] = pd.to_datetime(dataframe_missile['time_end'], format='mixed')\n",
    "\n",
    "dataframe_missile['attack_duration'] = dataframe_missile['time_end'] - dataframe_missile['time_start']\n",
    "\n",
    "dataframe_missile['year'] = dataframe_missile['time_start'].dt.year\n",
    "dataframe_missile['month'] = dataframe_missile['time_start'].dt.month\n",
    "\n",
    "attacks_moutns = dataframe_missile.groupby(['year', 'month'])['attack_duration'].max().reset_index(name='max_duration')\n",
    "attacks_moutns = attacks_moutns.dropna(subset=['max_duration'])\n",
    "attacks_moutns = attacks_moutns.sort_values(by=['year', 'month'])\n",
    "attacks_moutns.to_csv('attacks_moutns.csv', index=False)\n",
    "\n",
    "print(attacks_moutns)"
   ]
  },
  {
   "cell_type": "markdown",
   "metadata": {},
   "source": [
    "task19"
   ]
  },
  {
   "cell_type": "code",
   "execution_count": 29,
   "metadata": {},
   "outputs": [
    {
     "data": {
      "image/png": "[encoded data removed]",
      "text/plain": [
       "<Figure size 640x480 with 1 Axes>"
      ]
     },
     "metadata": {},
     "output_type": "display_data"
    }
   ],
   "source": [
    "\n",
    "import matplotlib.pyplot as plt\n",
    "height = 480\n",
    "width = 720\n",
    "\n",
    "images = np.zeros((height,width,3), dtype=np.uint8)\n",
    "\n",
    "mid_pix = height // 2\n",
    "\n",
    "images[:mid_pix, :, :] = (0,57,184)\n",
    "\n",
    "images[mid_pix:, :, :] = (225, 215, 0)\n",
    "\n",
    "plt.imshow(images)\n",
    "plt.axis('off')\n",
    "plt.show()"
   ]
  }
 ],
 "metadata": {
  "kernelspec": {
   "display_name": "Python 3",
   "language": "python",
   "name": "python3"
  },
  "language_info": {
   "codemirror_mode": {
    "name": "ipython",
    "version": 3
   },
   "file_extension": ".py",
   "mimetype": "text/x-python",
   "name": "python",
   "nbconvert_exporter": "python",
   "pygments_lexer": "ipython3",
   "version": "3.11.9"
  }
 },
 "nbformat": 4,
 "nbformat_minor": 2
}
